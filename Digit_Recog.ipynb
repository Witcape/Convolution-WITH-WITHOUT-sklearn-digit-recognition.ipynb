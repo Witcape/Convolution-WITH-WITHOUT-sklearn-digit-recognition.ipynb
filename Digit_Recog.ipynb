{
  "nbformat": 4,
  "nbformat_minor": 0,
  "metadata": {
    "colab": {
      "provenance": [],
      "mount_file_id": "1L5hGPIn-IV5qlG88z0livS4fbpDxHgf9",
      "authorship_tag": "ABX9TyPodLsTY5RWyEXBoSC3MsKk",
      "include_colab_link": true
    },
    "kernelspec": {
      "name": "python3",
      "display_name": "Python 3"
    },
    "language_info": {
      "name": "python"
    }
  },
  "cells": [
    {
      "cell_type": "markdown",
      "metadata": {
        "id": "view-in-github",
        "colab_type": "text"
      },
      "source": [
        "<a href=\"https://colab.research.google.com/github/Witcape/Convolution-WITH-WITHOUT-sklearn-digit-recognition.ipynb/blob/main/Digit_Recog.ipynb\" target=\"_parent\"><img src=\"https://colab.research.google.com/assets/colab-badge.svg\" alt=\"Open In Colab\"/></a>"
      ]
    },
    {
      "cell_type": "code",
      "execution_count": 1,
      "metadata": {
        "id": "NJAO2ptrRCxk"
      },
      "outputs": [],
      "source": [
        "import numpy as np\n",
        "import math\n",
        "import matplotlib.pyplot as plt\n",
        "import cv2\n",
        "import tqdm\n",
        "from sklearn.model_selection import train_test_split\n",
        "from tqdm import tqdm\n",
        "import os\n",
        "from PIL import Image\n",
        "from sklearn.preprocessing import OneHotEncoder\n",
        "import tensorflow as tf\n",
        "from tensorflow.keras import Sequential\n",
        "from tensorflow.keras.layers import Dense"
      ]
    },
    {
      "cell_type": "code",
      "source": [
        "from google.colab import drive\n",
        "drive.mount('/content/drive')"
      ],
      "metadata": {
        "colab": {
          "base_uri": "https://localhost:8080/"
        },
        "id": "eCWi8US3TIdR",
        "outputId": "efbc745b-e356-464f-b3d0-a90b50961d75"
      },
      "execution_count": 2,
      "outputs": [
        {
          "output_type": "stream",
          "name": "stdout",
          "text": [
            "Drive already mounted at /content/drive; to attempt to forcibly remount, call drive.mount(\"/content/drive\", force_remount=True).\n"
          ]
        }
      ]
    },
    {
      "cell_type": "code",
      "source": [
        "def zero_pad(X,pad):\n",
        "  #X_pad = np.pad( Dataset, ( Number of Images ), ( Padding in Height ), ( Padding in Width ), ( Number of Color Channels))\n",
        "  x_pad = np.pad(X,((0,0),(pad,pad),(pad,pad),(0,0)))\n",
        "  return x_pad"
      ],
      "metadata": {
        "id": "rPj4E06cUUMv"
      },
      "execution_count": 3,
      "outputs": []
    },
    {
      "cell_type": "code",
      "source": [
        "np.random.seed(1)\n",
        "x = np.random.randn(4, 3, 2, 2)\n",
        "pad = 3\n",
        "x_pad = zero_pad(x, pad)\n",
        "print(\"Shape of x is \",x.shape, \"\\nShape of x_pad is \",x_pad.shape)"
      ],
      "metadata": {
        "colab": {
          "base_uri": "https://localhost:8080/"
        },
        "id": "AQj9sW9YVMVE",
        "outputId": "975de413-64a1-44c7-b220-04c39ccef026"
      },
      "execution_count": 4,
      "outputs": [
        {
          "output_type": "stream",
          "name": "stdout",
          "text": [
            "Shape of x is  (4, 3, 2, 2) \n",
            "Shape of x_pad is  (4, 9, 8, 2)\n"
          ]
        }
      ]
    },
    {
      "cell_type": "code",
      "source": [
        "data_dir = '/content/drive/MyDrive/dataset'\n",
        "\n",
        "features = []\n",
        "labels = []\n",
        "\n",
        "for label in range(10):\n",
        "  loc = os.path.join(data_dir,f'digit_{label}')\n",
        "  for file_name in tqdm(os.listdir(loc)):\n",
        "    name = os.path.join(loc,file_name)\n",
        "    image = cv2.imread(name,0)\n",
        "    image = cv2.resize(image, (32,32,))\n",
        "    features.append(image)\n",
        "    labels.append(label)"
      ],
      "metadata": {
        "id": "q0nwGxJxdDli",
        "colab": {
          "base_uri": "https://localhost:8080/"
        },
        "outputId": "f6d2a0af-4abe-4e71-f158-38a50429208b"
      },
      "execution_count": 5,
      "outputs": [
        {
          "output_type": "stream",
          "name": "stderr",
          "text": [
            "100%|██████████| 325/325 [00:03<00:00, 84.57it/s] \n",
            "100%|██████████| 897/897 [00:12<00:00, 73.96it/s] \n",
            "100%|██████████| 840/840 [00:12<00:00, 67.80it/s] \n",
            "100%|██████████| 702/702 [00:10<00:00, 64.96it/s] \n",
            "100%|██████████| 672/672 [00:11<00:00, 58.89it/s] \n",
            "100%|██████████| 451/451 [00:08<00:00, 50.50it/s] \n",
            "100%|██████████| 527/527 [00:16<00:00, 32.61it/s] \n",
            "100%|██████████| 936/936 [00:14<00:00, 65.98it/s] \n",
            "100%|██████████| 663/663 [00:11<00:00, 55.91it/s] \n",
            "100%|██████████| 874/874 [00:13<00:00, 64.20it/s] \n"
          ]
        }
      ]
    },
    {
      "cell_type": "code",
      "source": [
        "X = np.array(features)\n",
        "Y = np.array(labels)"
      ],
      "metadata": {
        "id": "EIN7WmDpOuuu"
      },
      "execution_count": 6,
      "outputs": []
    },
    {
      "cell_type": "code",
      "source": [
        "x_train, x_test, y_train, y_test = train_test_split(X, Y, test_size = 0.3, random_state = 42)"
      ],
      "metadata": {
        "id": "GuoseS7ZcXIv"
      },
      "execution_count": 7,
      "outputs": []
    },
    {
      "cell_type": "code",
      "source": [
        "#visualising data\n",
        "print(x_train.shape, \"\\n\",y_train.shape)\n",
        "plt.figure(figsize=(4,4))\n",
        "plt.imshow(x_train[323])\n",
        "plt.title(f'Label = {y_train[323]}')"
      ],
      "metadata": {
        "colab": {
          "base_uri": "https://localhost:8080/",
          "height": 443
        },
        "id": "sBkRbURKdWfc",
        "outputId": "cc7b394b-d7d3-4338-de33-5ab92c2d4927"
      },
      "execution_count": 8,
      "outputs": [
        {
          "output_type": "stream",
          "name": "stdout",
          "text": [
            "(4820, 32, 32) \n",
            " (4820,)\n"
          ]
        },
        {
          "output_type": "execute_result",
          "data": {
            "text/plain": [
              "Text(0.5, 1.0, 'Label = 3')"
            ]
          },
          "metadata": {},
          "execution_count": 8
        },
        {
          "output_type": "display_data",
          "data": {
            "text/plain": [
              "<Figure size 400x400 with 1 Axes>"
            ],
            "image/png": "[encoded data removed]"
          },
          "metadata": {}
        }
      ]
    },
    {
      "cell_type": "code",
      "source": [
        "x_train = x_train/255\n",
        "x_test = x_test/255\n",
        "\n",
        "one_hot = OneHotEncoder(sparse = False, )\n",
        "\n",
        "y_train_one_hot = one_hot.fit_transform(np.array(y_train).reshape(-1,1))\n",
        "y_test_one_hot = one_hot.fit_transform(np.array(y_test).reshape(-1,1))\n",
        "\n",
        "x_train = x_train.reshape(x_train.shape[0], x_train.shape[1], x_train.shape[2], 1)\n",
        "x_test = x_test.reshape(x_test.shape[0], x_test.shape[1], x_test.shape[2], 1)\n",
        "\n",
        "print (\"number of training examples = \" + str(x_train.shape[0]))\n",
        "print (\"number of test examples = \" + str(x_test.shape[0]))\n",
        "print (\"X_train shape: \" + str(x_train.shape))\n",
        "print (\"Y_train shape: \" + str(y_train_one_hot.shape))\n",
        "print (\"X_test shape: \" + str(x_test.shape))\n",
        "print (\"Y_test shape: \" + str(y_test_one_hot.shape))"
      ],
      "metadata": {
        "id": "PGjV_wFXQKuo",
        "colab": {
          "base_uri": "https://localhost:8080/"
        },
        "outputId": "781f27b5-1afc-4c86-b22c-6bfaedc8e2f3"
      },
      "execution_count": 9,
      "outputs": [
        {
          "output_type": "stream",
          "name": "stdout",
          "text": [
            "number of training examples = 4820\n",
            "number of test examples = 2067\n",
            "X_train shape: (4820, 32, 32, 1)\n",
            "Y_train shape: (4820, 10)\n",
            "X_test shape: (2067, 32, 32, 1)\n",
            "Y_test shape: (2067, 10)\n"
          ]
        },
        {
          "output_type": "stream",
          "name": "stderr",
          "text": [
            "/usr/local/lib/python3.10/dist-packages/sklearn/preprocessing/_encoders.py:868: FutureWarning: `sparse` was renamed to `sparse_output` in version 1.2 and will be removed in 1.4. `sparse_output` is ignored unless you leave `sparse` to its default value.\n",
            "  warnings.warn(\n",
            "/usr/local/lib/python3.10/dist-packages/sklearn/preprocessing/_encoders.py:868: FutureWarning: `sparse` was renamed to `sparse_output` in version 1.2 and will be removed in 1.4. `sparse_output` is ignored unless you leave `sparse` to its default value.\n",
            "  warnings.warn(\n"
          ]
        }
      ]
    },
    {
      "cell_type": "code",
      "source": [
        "conv_layers = {}"
      ],
      "metadata": {
        "id": "PyakM7FSRG7x"
      },
      "execution_count": 10,
      "outputs": []
    },
    {
      "cell_type": "code",
      "source": [
        "def create_placeholders(h, w, c, y):\n",
        "  X = tf.keras.layers.Input(shape = [h, w, c], batch_size = None, dtype = \"float\", name = \"X\")\n",
        "  Y = tf.keras.layers.Input(shape = [y], batch_size = None, dtype = \"float\", name = \"Y\")\n",
        "  return X,Y"
      ],
      "metadata": {
        "id": "zgxiBOIeU0DY"
      },
      "execution_count": 11,
      "outputs": []
    },
    {
      "cell_type": "code",
      "source": [
        "height = 32\n",
        "width = 32\n",
        "channels = 1\n",
        "classes = 10\n",
        "X, Y = create_placeholders(height, width, channels, classes)"
      ],
      "metadata": {
        "id": "tkpvjXkfta4D"
      },
      "execution_count": 12,
      "outputs": []
    },
    {
      "cell_type": "code",
      "source": [
        "print (\"X = \" + str(X))\n",
        "print (\"Y = \" + str(Y))"
      ],
      "metadata": {
        "colab": {
          "base_uri": "https://localhost:8080/"
        },
        "id": "KcTmfb30yUgJ",
        "outputId": "b4ae9c9a-c039-4024-b759-f8eed9e73ab1"
      },
      "execution_count": 13,
      "outputs": [
        {
          "output_type": "stream",
          "name": "stdout",
          "text": [
            "X = KerasTensor(type_spec=TensorSpec(shape=(None, 32, 32, 1), dtype=tf.float32, name='X'), name='X', description=\"created by layer 'X'\")\n",
            "Y = KerasTensor(type_spec=TensorSpec(shape=(None, 10), dtype=tf.float32, name='Y'), name='Y', description=\"created by layer 'Y'\")\n"
          ]
        }
      ]
    },
    {
      "cell_type": "code",
      "source": [
        "def init_param():\n",
        "  W1 = tf.Variable(initial_value=tf.keras.initializers.GlorotUniform(seed=0)(shape=(4, 4, 1, 8)), name=\"W1\")\n",
        "  W2 = tf.Variable(initial_value=tf.keras.initializers.GlorotUniform(seed=0)(shape=(3, 3, 1, 16)), name=\"W2\")\n",
        "  parameters = {\"W1\": W1, \"W2\": W2}\n",
        "  return parameters"
      ],
      "metadata": {
        "id": "qhNJ3gd_7eV8"
      },
      "execution_count": 62,
      "outputs": []
    },
    {
      "cell_type": "code",
      "source": [
        "parameters = init_param()\n",
        "print(\"W1.shape: \" + str(parameters[\"W1\"].shape))\n",
        "print(\"W2.shape: \" + str(parameters[\"W2\"].shape))"
      ],
      "metadata": {
        "colab": {
          "base_uri": "https://localhost:8080/"
        },
        "id": "GJ-GXdEDTEr6",
        "outputId": "d1829707-eeb7-48c2-f64c-b972ee0c3afe"
      },
      "execution_count": 71,
      "outputs": [
        {
          "output_type": "stream",
          "name": "stdout",
          "text": [
            "W1.shape: (4, 4, 1, 8)\n",
            "W2.shape: (3, 3, 1, 16)\n"
          ]
        }
      ]
    },
    {
      "cell_type": "code",
      "source": [],
      "metadata": {
        "id": "5BsdZYpqUPAT"
      },
      "execution_count": null,
      "outputs": []
    }
  ]
}