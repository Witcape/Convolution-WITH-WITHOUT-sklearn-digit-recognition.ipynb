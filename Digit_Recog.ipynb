{
  "nbformat": 4,
  "nbformat_minor": 0,
  "metadata": {
    "colab": {
      "provenance": [],
      "mount_file_id": "1L5hGPIn-IV5qlG88z0livS4fbpDxHgf9",
      "authorship_tag": "ABX9TyPaB0eGCKT87kIqrrKHOKx4",
      "include_colab_link": true
    },
    "kernelspec": {
      "name": "python3",
      "display_name": "Python 3"
    },
    "language_info": {
      "name": "python"
    }
  },
  "cells": [
    {
      "cell_type": "markdown",
      "metadata": {
        "id": "view-in-github",
        "colab_type": "text"
      },
      "source": [
        "<a href=\"https://colab.research.google.com/github/Witcape/Convolution-WITH-WITHOUT-sklearn-digit-recognition.ipynb/blob/main/Digit_Recog.ipynb\" target=\"_parent\"><img src=\"https://colab.research.google.com/assets/colab-badge.svg\" alt=\"Open In Colab\"/></a>"
      ]
    },
    {
      "cell_type": "code",
      "execution_count": 3,
      "metadata": {
        "id": "NJAO2ptrRCxk"
      },
      "outputs": [],
      "source": [
        "import numpy as np\n",
        "import math\n",
        "import matplotlib.pyplot as plt\n",
        "import cv2\n",
        "import tqdm\n",
        "from sklearn.model_selection import train_test_split\n",
        "from tqdm import tqdm\n",
        "import os\n",
        "from PIL import Image\n",
        "import tensorflow as tf"
      ]
    },
    {
      "cell_type": "code",
      "source": [
        "from google.colab import drive\n",
        "drive.mount('/content/drive')"
      ],
      "metadata": {
        "colab": {
          "base_uri": "https://localhost:8080/"
        },
        "id": "eCWi8US3TIdR",
        "outputId": "def3206b-42ef-4d6c-8cac-baaf71ed8298"
      },
      "execution_count": 4,
      "outputs": [
        {
          "output_type": "stream",
          "name": "stdout",
          "text": [
            "Drive already mounted at /content/drive; to attempt to forcibly remount, call drive.mount(\"/content/drive\", force_remount=True).\n"
          ]
        }
      ]
    },
    {
      "cell_type": "code",
      "source": [
        "def zero_pad(X,pad):\n",
        "  #X_pad = np.pad( Dataset, ( Number of Images ), ( Padding in Height ), ( Padding in Width ), ( Number of Color Channels))\n",
        "  x_pad = np.pad(X,((0,0),(pad,pad),(pad,pad),(0,0)))\n",
        "  return x_pad"
      ],
      "metadata": {
        "id": "rPj4E06cUUMv"
      },
      "execution_count": 5,
      "outputs": []
    },
    {
      "cell_type": "code",
      "source": [
        "np.random.seed(1)\n",
        "x = np.random.randn(4, 3, 2, 2)\n",
        "pad = 3\n",
        "x_pad = zero_pad(x, pad)\n",
        "print(\"Shape of x is \",x.shape, \"\\nShape of x_pad is \",x_pad.shape)"
      ],
      "metadata": {
        "colab": {
          "base_uri": "https://localhost:8080/"
        },
        "id": "AQj9sW9YVMVE",
        "outputId": "048bc146-d8e6-4082-d40e-64c9f30bb21f"
      },
      "execution_count": 6,
      "outputs": [
        {
          "output_type": "stream",
          "name": "stdout",
          "text": [
            "Shape of x is  (4, 3, 2, 2) \n",
            "Shape of x_pad is  (4, 9, 8, 2)\n"
          ]
        }
      ]
    },
    {
      "cell_type": "code",
      "source": [
        "data_dir = '/content/drive/MyDrive/dataset'\n",
        "\n",
        "features = []\n",
        "labels = []\n",
        "\n",
        "for label in range(10):\n",
        "  loc = os.path.join(data_dir,f'digit_{label}')\n",
        "  for file_name in tqdm(os.listdir(loc)):\n",
        "    name = os.path.join(loc,file_name)\n",
        "    image = cv2.imread(name,0)\n",
        "    features.append(image)\n",
        "    labels.append(label)"
      ],
      "metadata": {
        "id": "q0nwGxJxdDli",
        "colab": {
          "base_uri": "https://localhost:8080/"
        },
        "outputId": "7c765c32-8bf1-496b-a0d7-af544365b112"
      },
      "execution_count": 7,
      "outputs": [
        {
          "output_type": "stream",
          "name": "stderr",
          "text": [
            "100%|██████████| 325/325 [00:05<00:00, 59.09it/s] \n",
            "100%|██████████| 897/897 [00:14<00:00, 61.28it/s] \n",
            "100%|██████████| 840/840 [00:19<00:00, 42.35it/s] \n",
            "100%|██████████| 702/702 [00:13<00:00, 52.89it/s] \n",
            "100%|██████████| 672/672 [00:10<00:00, 61.78it/s] \n",
            "100%|██████████| 451/451 [00:06<00:00, 67.79it/s] \n",
            "100%|██████████| 527/527 [00:12<00:00, 41.55it/s] \n",
            "100%|██████████| 936/936 [00:14<00:00, 63.81it/s] \n",
            "100%|██████████| 663/663 [00:09<00:00, 67.41it/s] \n",
            "100%|██████████| 874/874 [00:21<00:00, 41.03it/s] \n"
          ]
        }
      ]
    },
    {
      "cell_type": "code",
      "source": [
        "X = np.array(features)\n",
        "Y = np.array(labels)"
      ],
      "metadata": {
        "colab": {
          "base_uri": "https://localhost:8080/"
        },
        "id": "EIN7WmDpOuuu",
        "outputId": "5b6a8827-1007-40d4-a91e-33d254469793"
      },
      "execution_count": 8,
      "outputs": [
        {
          "output_type": "stream",
          "name": "stderr",
          "text": [
            "<ipython-input-8-7d9274bffe07>:1: VisibleDeprecationWarning: Creating an ndarray from ragged nested sequences (which is a list-or-tuple of lists-or-tuples-or ndarrays with different lengths or shapes) is deprecated. If you meant to do this, you must specify 'dtype=object' when creating the ndarray.\n",
            "  X = np.array(features)\n"
          ]
        }
      ]
    },
    {
      "cell_type": "code",
      "source": [
        "x_train, x_test, y_train, y_test = train_test_split(X, Y, test_size = 0.3, random_state = 42)"
      ],
      "metadata": {
        "id": "GuoseS7ZcXIv"
      },
      "execution_count": 9,
      "outputs": []
    },
    {
      "cell_type": "code",
      "source": [
        "#visualising data\n",
        "print(x_train.shape, \"\\n\",y_train.shape)\n",
        "plt.figure(figsize=(4,4))\n",
        "plt.imshow(x_train[323])\n",
        "plt.title(f'Label = {y_train[323]}')"
      ],
      "metadata": {
        "colab": {
          "base_uri": "https://localhost:8080/",
          "height": 443
        },
        "id": "sBkRbURKdWfc",
        "outputId": "73798d6a-ae99-4d3f-f477-74ca84cd5647"
      },
      "execution_count": 10,
      "outputs": [
        {
          "output_type": "stream",
          "name": "stdout",
          "text": [
            "(4820,) \n",
            " (4820,)\n"
          ]
        },
        {
          "output_type": "execute_result",
          "data": {
            "text/plain": [
              "Text(0.5, 1.0, 'Label = 3')"
            ]
          },
          "metadata": {},
          "execution_count": 10
        },
        {
          "output_type": "display_data",
          "data": {
            "text/plain": [
              "<Figure size 400x400 with 1 Axes>"
            ],
            "image/png": "[encoded data removed]"
          },
          "metadata": {}
        }
      ]
    },
    {
      "cell_type": "code",
      "source": [
        "x_train = x_train/255\n",
        "y_train = y_train/255"
      ],
      "metadata": {
        "id": "PGjV_wFXQKuo"
      },
      "execution_count": 11,
      "outputs": []
    },
    {
      "cell_type": "code",
      "source": [
        "conv_layers = {}"
      ],
      "metadata": {
        "id": "PyakM7FSRG7x"
      },
      "execution_count": 12,
      "outputs": []
    },
    {
      "cell_type": "code",
      "source": [
        "def create_placeholders(h, w, c, y):\n",
        "  X = tf.keras.layers.Input(shape = [h, w, c], batch_size = None, dtype = \"float\", name = \"X\")\n",
        "  Y = tf.keras.layers.Input(shape = [y], batch_size = None, dtype = \"float\", name = \"Y\")\n",
        "  return X,Y"
      ],
      "metadata": {
        "id": "zgxiBOIeU0DY"
      },
      "execution_count": 37,
      "outputs": []
    },
    {
      "cell_type": "code",
      "source": [
        "height = 32\n",
        "width = 32\n",
        "channels = 1\n",
        "X,Y = create_placeholders(height, width, channels, 10)"
      ],
      "metadata": {
        "id": "jYoVKgwoQgjw"
      },
      "execution_count": 38,
      "outputs": []
    },
    {
      "cell_type": "code",
      "source": [
        "print (\"X = \" + str(X))\n",
        "print (\"Y = \" + str(Y))"
      ],
      "metadata": {
        "colab": {
          "base_uri": "https://localhost:8080/"
        },
        "id": "vO2nSyitTRUe",
        "outputId": "d41c394c-1161-4bea-b1ff-c9b552216fe1"
      },
      "execution_count": 39,
      "outputs": [
        {
          "output_type": "stream",
          "name": "stdout",
          "text": [
            "X = KerasTensor(type_spec=TensorSpec(shape=(None, 32, 32, 1), dtype=tf.float32, name='X'), name='X', description=\"created by layer 'X'\")\n",
            "Y = KerasTensor(type_spec=TensorSpec(shape=(None, 10), dtype=tf.float32, name='Y'), name='Y', description=\"created by layer 'Y'\")\n"
          ]
        }
      ]
    },
    {
      "cell_type": "code",
      "source": [],
      "metadata": {
        "id": "54hbWAkYTsY6"
      },
      "execution_count": null,
      "outputs": []
    }
  ]
}