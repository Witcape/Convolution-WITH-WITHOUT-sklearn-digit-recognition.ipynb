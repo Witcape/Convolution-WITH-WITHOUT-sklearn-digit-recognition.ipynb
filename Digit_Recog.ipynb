{
  "nbformat": 4,
  "nbformat_minor": 0,
  "metadata": {
    "colab": {
      "provenance": [],
      "mount_file_id": "1L5hGPIn-IV5qlG88z0livS4fbpDxHgf9",
      "authorship_tag": "ABX9TyPk1PbQAzONMmoh6Qey5Fk1",
      "include_colab_link": true
    },
    "kernelspec": {
      "name": "python3",
      "display_name": "Python 3"
    },
    "language_info": {
      "name": "python"
    }
  },
  "cells": [
    {
      "cell_type": "markdown",
      "metadata": {
        "id": "view-in-github",
        "colab_type": "text"
      },
      "source": [
        "<a href=\"https://colab.research.google.com/github/Witcape/Convolution-WITH-WITHOUT-sklearn-digit-recognition.ipynb/blob/main/Digit_Recog.ipynb\" target=\"_parent\"><img src=\"https://colab.research.google.com/assets/colab-badge.svg\" alt=\"Open In Colab\"/></a>"
      ]
    },
    {
      "cell_type": "code",
      "execution_count": 1,
      "metadata": {
        "id": "NJAO2ptrRCxk"
      },
      "outputs": [],
      "source": [
        "import numpy as np\n",
        "import math\n",
        "import matplotlib.pyplot as plt\n",
        "import cv2\n",
        "import tqdm\n",
        "from sklearn.model_selection import train_test_split\n",
        "from tqdm import tqdm\n",
        "import os\n",
        "from PIL import Image\n",
        "import tensorflow as tf"
      ]
    },
    {
      "cell_type": "code",
      "source": [
        "from google.colab import drive\n",
        "drive.mount('/content/drive')"
      ],
      "metadata": {
        "colab": {
          "base_uri": "https://localhost:8080/"
        },
        "id": "eCWi8US3TIdR",
        "outputId": "c557a024-8791-4926-ae35-141e0241456c"
      },
      "execution_count": 2,
      "outputs": [
        {
          "output_type": "stream",
          "name": "stdout",
          "text": [
            "Drive already mounted at /content/drive; to attempt to forcibly remount, call drive.mount(\"/content/drive\", force_remount=True).\n"
          ]
        }
      ]
    },
    {
      "cell_type": "code",
      "source": [
        "def zero_pad(X,pad):\n",
        "  #X_pad = np.pad( Dataset, ( Number of Images ), ( Padding in Height ), ( Padding in Width ), ( Number of Color Channels))\n",
        "  x_pad = np.pad(X,((0,0),(pad,pad),(pad,pad),(0,0)))\n",
        "  return x_pad"
      ],
      "metadata": {
        "id": "rPj4E06cUUMv"
      },
      "execution_count": 3,
      "outputs": []
    },
    {
      "cell_type": "code",
      "source": [
        "np.random.seed(1)\n",
        "x = np.random.randn(4, 3, 2, 2)\n",
        "pad = 3\n",
        "x_pad = zero_pad(x, pad)\n",
        "print(\"Shape of x is \",x.shape, \"\\nShape of x_pad is \",x_pad.shape)"
      ],
      "metadata": {
        "colab": {
          "base_uri": "https://localhost:8080/"
        },
        "id": "AQj9sW9YVMVE",
        "outputId": "a51a956c-1282-423c-e11f-0c75e87c124a"
      },
      "execution_count": 4,
      "outputs": [
        {
          "output_type": "stream",
          "name": "stdout",
          "text": [
            "Shape of x is  (4, 3, 2, 2) \n",
            "Shape of x_pad is  (4, 9, 8, 2)\n"
          ]
        }
      ]
    },
    {
      "cell_type": "code",
      "source": [
        "data_dir = '/content/drive/MyDrive/dataset'\n",
        "\n",
        "features = []\n",
        "labels = []\n",
        "\n",
        "for label in range(10):\n",
        "  loc = os.path.join(data_dir,f'digit_{label}')\n",
        "  for file_name in tqdm(os.listdir(loc)):\n",
        "    name = os.path.join(loc,file_name)\n",
        "    image = cv2.imread(name,0)\n",
        "    features.append(image)\n",
        "    labels.append(label)"
      ],
      "metadata": {
        "id": "q0nwGxJxdDli",
        "colab": {
          "base_uri": "https://localhost:8080/"
        },
        "outputId": "537aa8cc-fe46-462a-d27e-0564919e6d73"
      },
      "execution_count": 5,
      "outputs": [
        {
          "output_type": "stream",
          "name": "stderr",
          "text": [
            "100%|██████████| 325/325 [00:05<00:00, 58.63it/s] \n",
            "100%|██████████| 897/897 [00:23<00:00, 37.75it/s] \n",
            "100%|██████████| 840/840 [00:20<00:00, 40.69it/s] \n",
            "100%|██████████| 702/702 [00:15<00:00, 44.45it/s] \n",
            "100%|██████████| 672/672 [00:13<00:00, 48.99it/s] \n",
            "100%|██████████| 451/451 [00:07<00:00, 60.24it/s] \n",
            "100%|██████████| 527/527 [00:07<00:00, 71.13it/s] \n",
            "100%|██████████| 936/936 [00:34<00:00, 27.12it/s] \n",
            "100%|██████████| 663/663 [00:10<00:00, 65.77it/s] \n",
            "100%|██████████| 874/874 [00:27<00:00, 31.41it/s] \n"
          ]
        }
      ]
    },
    {
      "cell_type": "code",
      "source": [
        "X = np.array(features)\n",
        "Y = np.array(labels)"
      ],
      "metadata": {
        "colab": {
          "base_uri": "https://localhost:8080/"
        },
        "id": "EIN7WmDpOuuu",
        "outputId": "c00ca7d2-40eb-40f8-e532-7513e6fe181f"
      },
      "execution_count": 6,
      "outputs": [
        {
          "output_type": "stream",
          "name": "stderr",
          "text": [
            "<ipython-input-6-7d9274bffe07>:1: VisibleDeprecationWarning: Creating an ndarray from ragged nested sequences (which is a list-or-tuple of lists-or-tuples-or ndarrays with different lengths or shapes) is deprecated. If you meant to do this, you must specify 'dtype=object' when creating the ndarray.\n",
            "  X = np.array(features)\n"
          ]
        }
      ]
    },
    {
      "cell_type": "code",
      "source": [
        "x_train, x_test, y_train, y_test = train_test_split(X, Y, test_size = 0.3, random_state = 42)"
      ],
      "metadata": {
        "id": "GuoseS7ZcXIv"
      },
      "execution_count": 7,
      "outputs": []
    },
    {
      "cell_type": "code",
      "source": [
        "#visualising data\n",
        "print(x_train.shape, \"\\n\",y_train.shape)\n",
        "plt.figure(figsize=(4,4))\n",
        "plt.imshow(x_train[300])\n",
        "plt.title(f'Label = {y_train[300]}')"
      ],
      "metadata": {
        "colab": {
          "base_uri": "https://localhost:8080/",
          "height": 443
        },
        "id": "sBkRbURKdWfc",
        "outputId": "93760d9f-d5a6-47f7-fd0f-3bc9094c2028"
      },
      "execution_count": 16,
      "outputs": [
        {
          "output_type": "stream",
          "name": "stdout",
          "text": [
            "(4820,) \n",
            " (4820,)\n"
          ]
        },
        {
          "output_type": "execute_result",
          "data": {
            "text/plain": [
              "Text(0.5, 1.0, 'Label = 7')"
            ]
          },
          "metadata": {},
          "execution_count": 16
        },
        {
          "output_type": "display_data",
          "data": {
            "text/plain": [
              "<Figure size 400x400 with 1 Axes>"
            ],
            "image/png": "[encoded data removed]"
          },
          "metadata": {}
        }
      ]
    },
    {
      "cell_type": "code",
      "source": [
        "x_train = x_train/255\n",
        "y_train = y_train/255"
      ],
      "metadata": {
        "id": "PGjV_wFXQKuo"
      },
      "execution_count": 17,
      "outputs": []
    },
    {
      "cell_type": "code",
      "source": [
        "conv_layers = {}"
      ],
      "metadata": {
        "id": "PyakM7FSRG7x"
      },
      "execution_count": 20,
      "outputs": []
    },
    {
      "cell_type": "code",
      "source": [
        "def create_placeholders(h, w, c, y):\n",
        "  X = tf.placeholder([None, h, w, c], dtype = \"float\", name = \"X\")\n",
        "  Y = tf.placeholder([None, y], dtype = \"float\", name = \"Y\")\n",
        "  return X,Y"
      ],
      "metadata": {
        "id": "zgxiBOIeU0DY"
      },
      "execution_count": 1,
      "outputs": []
    },
    {
      "cell_type": "code",
      "source": [
        "height = 32\n",
        "width = 32\n",
        "p_x = create_placeholders()"
      ],
      "metadata": {
        "id": "jYoVKgwoQgjw"
      },
      "execution_count": null,
      "outputs": []
    }
  ]
}