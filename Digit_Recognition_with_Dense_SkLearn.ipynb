{
  "cells": [
    {
      "cell_type": "markdown",
      "metadata": {
        "id": "view-in-github",
        "colab_type": "text"
      },
      "source": [
        "<a href=\"https://colab.research.google.com/github/Witcape/Convolution-WITH-WITHOUT-sklearn-digit-recognition.ipynb/blob/main/Digit_Recognition_with_Dense_SkLearn.ipynb\" target=\"_parent\"><img src=\"https://colab.research.google.com/assets/colab-badge.svg\" alt=\"Open In Colab\"/></a>"
      ]
    },
    {
      "cell_type": "code",
      "execution_count": 2,
      "metadata": {
        "id": "jujti_qPv45m"
      },
      "outputs": [],
      "source": [
        "import numpy as np\n",
        "import math\n",
        "import matplotlib.pyplot as plt\n",
        "import cv2\n",
        "import tqdm\n",
        "from sklearn.model_selection import train_test_split\n",
        "from tqdm import tqdm\n",
        "import os\n",
        "from PIL import Image\n",
        "import tensorflow as tf\n",
        "from tensorflow.keras import Sequential\n",
        "from tensorflow.keras.layers import Dense,Flatten"
      ]
    },
    {
      "cell_type": "code",
      "execution_count": 3,
      "metadata": {
        "colab": {
          "base_uri": "https://localhost:8080/"
        },
        "id": "Dnyxeb9VwAk8",
        "outputId": "912fd4ce-4ebd-4bbf-8eaf-6553489a3585"
      },
      "outputs": [
        {
          "output_type": "stream",
          "name": "stdout",
          "text": [
            "Mounted at /content/drive\n"
          ]
        }
      ],
      "source": [
        "from google.colab import drive\n",
        "drive.mount('/content/drive')"
      ]
    },
    {
      "cell_type": "code",
      "execution_count": 5,
      "metadata": {
        "colab": {
          "base_uri": "https://localhost:8080/"
        },
        "id": "kemjspOCwB5U",
        "outputId": "1015752c-f9f7-4877-ec08-3179ecdbd70f"
      },
      "outputs": [
        {
          "output_type": "stream",
          "name": "stderr",
          "text": [
            "100%|██████████| 325/325 [00:02<00:00, 111.72it/s]\n",
            "100%|██████████| 897/897 [00:10<00:00, 85.05it/s] \n",
            "100%|██████████| 840/840 [00:12<00:00, 68.24it/s] \n",
            "100%|██████████| 702/702 [00:18<00:00, 38.03it/s] \n",
            "100%|██████████| 672/672 [00:07<00:00, 92.04it/s] \n",
            "100%|██████████| 451/451 [00:04<00:00, 97.50it/s] \n",
            "100%|██████████| 527/527 [00:05<00:00, 94.35it/s] \n",
            "100%|██████████| 936/936 [00:14<00:00, 65.21it/s] \n",
            "100%|██████████| 663/663 [00:07<00:00, 85.49it/s] \n",
            "100%|██████████| 874/874 [00:19<00:00, 44.66it/s] \n"
          ]
        }
      ],
      "source": [
        "data_dir = '/content/drive/MyDrive/dataset'\n",
        "\n",
        "features = []\n",
        "labels = []\n",
        "\n",
        "for label in range(10):\n",
        "  loc = os.path.join(data_dir,f'digit_{label}')\n",
        "  for file_name in tqdm(os.listdir(loc)):\n",
        "    name = os.path.join(loc,file_name)\n",
        "    image = cv2.imread(name,0)\n",
        "    image = cv2.resize(image,(32,32))\n",
        "    features.append(image)\n",
        "    labels.append(label)"
      ]
    },
    {
      "cell_type": "code",
      "execution_count": 6,
      "metadata": {
        "colab": {
          "base_uri": "https://localhost:8080/"
        },
        "id": "feN5LX38wDhb",
        "outputId": "bc241b80-24e9-4455-c8a5-e7a5113e5490"
      },
      "outputs": [
        {
          "output_type": "execute_result",
          "data": {
            "text/plain": [
              "(6887, 32, 32)"
            ]
          },
          "metadata": {},
          "execution_count": 6
        }
      ],
      "source": [
        "X = np.array(features)\n",
        "Y = np.array(labels)\n",
        "X.shape"
      ]
    },
    {
      "cell_type": "code",
      "execution_count": 7,
      "metadata": {
        "id": "yi85-KugwGBJ"
      },
      "outputs": [],
      "source": [
        "x_train, x_test, y_train, y_test = train_test_split(X, Y, test_size = 0.3, random_state = 42)"
      ]
    },
    {
      "cell_type": "code",
      "execution_count": 8,
      "metadata": {
        "colab": {
          "base_uri": "https://localhost:8080/",
          "height": 443
        },
        "id": "42HoWz1LwL3u",
        "outputId": "9148d5e4-44a6-495d-ce8d-6a0e094f2831"
      },
      "outputs": [
        {
          "output_type": "stream",
          "name": "stdout",
          "text": [
            "(4820, 32, 32) \n",
            " (4820,)\n"
          ]
        },
        {
          "output_type": "execute_result",
          "data": {
            "text/plain": [
              "Text(0.5, 1.0, 'Label = 3')"
            ]
          },
          "metadata": {},
          "execution_count": 8
        },
        {
          "output_type": "display_data",
          "data": {
            "text/plain": [
              "<Figure size 400x400 with 1 Axes>"
            ],
            "image/png": "[encoded data removed]"
          },
          "metadata": {}
        }
      ],
      "source": [
        "#visualising data\n",
        "print(x_train.shape, \"\\n\",y_train.shape)\n",
        "plt.figure(figsize=(4,4))\n",
        "plt.imshow(x_train[323])\n",
        "plt.title(f'Label = {y_train[323]}')"
      ]
    },
    {
      "cell_type": "code",
      "execution_count": 10,
      "metadata": {
        "colab": {
          "base_uri": "https://localhost:8080/"
        },
        "id": "VJhL2VElwNNB",
        "outputId": "287f30af-4bdb-479b-a65d-d208efa24293"
      },
      "outputs": [
        {
          "output_type": "stream",
          "name": "stdout",
          "text": [
            "x_train shape: (4820, 32, 32)\n",
            "x_test shape: (2067, 32, 32)\n",
            "y_train shape: (4820,)\n",
            "y_test shape: (2067,)\n",
            "x_train dtype: uint8\n",
            "x_test dtype: uint8\n",
            "y_train dtype: int64\n",
            "y_test dtype: int64\n"
          ]
        }
      ],
      "source": [
        "sample_image = x_train[0]\n",
        "channels = 1\n",
        "height, width = sample_image.shape\n",
        "\n",
        "print(\"x_train shape:\", x_train.shape)\n",
        "print(\"x_test shape:\", x_test.shape)\n",
        "print(\"y_train shape:\", y_train.shape)\n",
        "print(\"y_test shape:\", y_test.shape)\n",
        "print(\"x_train dtype:\", x_train.dtype)\n",
        "print(\"x_test dtype:\", x_test.dtype)\n",
        "print(\"y_train dtype:\", y_train.dtype)\n",
        "print(\"y_test dtype:\", y_test.dtype)"
      ]
    },
    {
      "cell_type": "code",
      "execution_count": 11,
      "metadata": {
        "id": "mXB_vq8r1BxI"
      },
      "outputs": [],
      "source": [
        "x_train = x_train.reshape(-1, height, width, channels).astype(np.float32) / 255.0\n",
        "x_test = x_test.reshape(-1, height, width, channels).astype(np.float32) / 255.0\n",
        "\n",
        "y_train = y_train.astype(np.int64)\n",
        "y_test = y_test.astype(np.int64)"
      ]
    },
    {
      "cell_type": "code",
      "source": [
        "model = Sequential([\n",
        "    Flatten(input_shape = (height,width)),\n",
        "    Dense(128, activation='relu'),\n",
        "    Dense(128, activation='relu'),\n",
        "    Dense(10, activation = 'softmax')\n",
        "])"
      ],
      "metadata": {
        "id": "QV5PY5GI76M5"
      },
      "execution_count": 12,
      "outputs": []
    },
    {
      "cell_type": "code",
      "execution_count": 15,
      "metadata": {
        "colab": {
          "base_uri": "https://localhost:8080/"
        },
        "id": "7ZzWgT3R0qmt",
        "outputId": "5e6816a2-927b-4577-a65f-e0e91949b42c"
      },
      "outputs": [
        {
          "output_type": "stream",
          "name": "stdout",
          "text": [
            "Model: \"sequential\"\n",
            "_________________________________________________________________\n",
            " Layer (type)                Output Shape              Param #   \n",
            "=================================================================\n",
            " flatten (Flatten)           (None, 1024)              0         \n",
            "                                                                 \n",
            " dense (Dense)               (None, 128)               131200    \n",
            "                                                                 \n",
            " dense_1 (Dense)             (None, 128)               16512     \n",
            "                                                                 \n",
            " dense_2 (Dense)             (None, 10)                1290      \n",
            "                                                                 \n",
            "=================================================================\n",
            "Total params: 149002 (582.04 KB)\n",
            "Trainable params: 149002 (582.04 KB)\n",
            "Non-trainable params: 0 (0.00 Byte)\n",
            "_________________________________________________________________\n"
          ]
        }
      ],
      "source": [
        "model.compile(optimizer='adam', loss='sparse_categorical_crossentropy', metrics=['accuracy'])\n",
        "model.summary()"
      ]
    },
    {
      "cell_type": "code",
      "execution_count": 16,
      "metadata": {
        "colab": {
          "base_uri": "https://localhost:8080/"
        },
        "id": "lneGbfUBxZoX",
        "outputId": "80401db5-43d3-4806-f2ef-7a32c2e8142a"
      },
      "outputs": [
        {
          "output_type": "stream",
          "name": "stdout",
          "text": [
            "Epoch 1/200\n",
            "151/151 [==============================] - 3s 5ms/step - loss: 2.2674 - accuracy: 0.1508\n",
            "Epoch 2/200\n",
            "151/151 [==============================] - 1s 4ms/step - loss: 2.1597 - accuracy: 0.2253\n",
            "Epoch 3/200\n",
            "151/151 [==============================] - 1s 4ms/step - loss: 1.9817 - accuracy: 0.3037\n",
            "Epoch 4/200\n",
            "151/151 [==============================] - 1s 4ms/step - loss: 1.8482 - accuracy: 0.3622\n",
            "Epoch 5/200\n",
            "151/151 [==============================] - 1s 4ms/step - loss: 1.7666 - accuracy: 0.4058\n",
            "Epoch 6/200\n",
            "151/151 [==============================] - 1s 4ms/step - loss: 1.6849 - accuracy: 0.4359\n",
            "Epoch 7/200\n",
            "151/151 [==============================] - 1s 4ms/step - loss: 1.6416 - accuracy: 0.4438\n",
            "Epoch 8/200\n",
            "151/151 [==============================] - 1s 4ms/step - loss: 1.6052 - accuracy: 0.4614\n",
            "Epoch 9/200\n",
            "151/151 [==============================] - 1s 4ms/step - loss: 1.5830 - accuracy: 0.4668\n",
            "Epoch 10/200\n",
            "151/151 [==============================] - 1s 4ms/step - loss: 1.5291 - accuracy: 0.4944\n",
            "Epoch 11/200\n",
            "151/151 [==============================] - 1s 5ms/step - loss: 1.5011 - accuracy: 0.5002\n",
            "Epoch 12/200\n",
            "151/151 [==============================] - 1s 4ms/step - loss: 1.4941 - accuracy: 0.5046\n",
            "Epoch 13/200\n",
            "151/151 [==============================] - 1s 4ms/step - loss: 1.4403 - accuracy: 0.5274\n",
            "Epoch 14/200\n",
            "151/151 [==============================] - 1s 4ms/step - loss: 1.4363 - accuracy: 0.5268\n",
            "Epoch 15/200\n",
            "151/151 [==============================] - 1s 4ms/step - loss: 1.4037 - accuracy: 0.5338\n",
            "Epoch 16/200\n",
            "151/151 [==============================] - 1s 4ms/step - loss: 1.3783 - accuracy: 0.5425\n",
            "Epoch 17/200\n",
            "151/151 [==============================] - 1s 4ms/step - loss: 1.3932 - accuracy: 0.5407\n",
            "Epoch 18/200\n",
            "151/151 [==============================] - 1s 6ms/step - loss: 1.3141 - accuracy: 0.5670\n",
            "Epoch 19/200\n",
            "151/151 [==============================] - 1s 6ms/step - loss: 1.3150 - accuracy: 0.5668\n",
            "Epoch 20/200\n",
            "151/151 [==============================] - 1s 6ms/step - loss: 1.3343 - accuracy: 0.5649\n",
            "Epoch 21/200\n",
            "151/151 [==============================] - 1s 6ms/step - loss: 1.2764 - accuracy: 0.5755\n",
            "Epoch 22/200\n",
            "151/151 [==============================] - 1s 7ms/step - loss: 1.2523 - accuracy: 0.5907\n",
            "Epoch 23/200\n",
            "151/151 [==============================] - 1s 4ms/step - loss: 1.2622 - accuracy: 0.5834\n",
            "Epoch 24/200\n",
            "151/151 [==============================] - 1s 4ms/step - loss: 1.2664 - accuracy: 0.5880\n",
            "Epoch 25/200\n",
            "151/151 [==============================] - 1s 4ms/step - loss: 1.2102 - accuracy: 0.6037\n",
            "Epoch 26/200\n",
            "151/151 [==============================] - 1s 4ms/step - loss: 1.2121 - accuracy: 0.6083\n",
            "Epoch 27/200\n",
            "151/151 [==============================] - 1s 4ms/step - loss: 1.1856 - accuracy: 0.6145\n",
            "Epoch 28/200\n",
            "151/151 [==============================] - 1s 5ms/step - loss: 1.1591 - accuracy: 0.6187\n",
            "Epoch 29/200\n",
            "151/151 [==============================] - 1s 5ms/step - loss: 1.1258 - accuracy: 0.6382\n",
            "Epoch 30/200\n",
            "151/151 [==============================] - 1s 5ms/step - loss: 1.1228 - accuracy: 0.6328\n",
            "Epoch 31/200\n",
            "151/151 [==============================] - 1s 4ms/step - loss: 1.1172 - accuracy: 0.6376\n",
            "Epoch 32/200\n",
            "151/151 [==============================] - 1s 4ms/step - loss: 1.0946 - accuracy: 0.6394\n",
            "Epoch 33/200\n",
            "151/151 [==============================] - 1s 7ms/step - loss: 1.1289 - accuracy: 0.6332\n",
            "Epoch 34/200\n",
            "151/151 [==============================] - 1s 7ms/step - loss: 1.0770 - accuracy: 0.6483\n",
            "Epoch 35/200\n",
            "151/151 [==============================] - 1s 7ms/step - loss: 1.0831 - accuracy: 0.6456\n",
            "Epoch 36/200\n",
            "151/151 [==============================] - 1s 5ms/step - loss: 1.0706 - accuracy: 0.6444\n",
            "Epoch 37/200\n",
            "151/151 [==============================] - 1s 6ms/step - loss: 1.0612 - accuracy: 0.6446\n",
            "Epoch 38/200\n",
            "151/151 [==============================] - 1s 7ms/step - loss: 1.0315 - accuracy: 0.6629\n",
            "Epoch 39/200\n",
            "151/151 [==============================] - 1s 6ms/step - loss: 0.9901 - accuracy: 0.6790\n",
            "Epoch 40/200\n",
            "151/151 [==============================] - 1s 6ms/step - loss: 1.0015 - accuracy: 0.6745\n",
            "Epoch 41/200\n",
            "151/151 [==============================] - 1s 4ms/step - loss: 1.0305 - accuracy: 0.6577\n",
            "Epoch 42/200\n",
            "151/151 [==============================] - 1s 4ms/step - loss: 0.9669 - accuracy: 0.6815\n",
            "Epoch 43/200\n",
            "151/151 [==============================] - 1s 4ms/step - loss: 0.9742 - accuracy: 0.6790\n",
            "Epoch 44/200\n",
            "151/151 [==============================] - 1s 4ms/step - loss: 0.9616 - accuracy: 0.6846\n",
            "Epoch 45/200\n",
            "151/151 [==============================] - 1s 4ms/step - loss: 0.9461 - accuracy: 0.6863\n",
            "Epoch 46/200\n",
            "151/151 [==============================] - 1s 4ms/step - loss: 0.9332 - accuracy: 0.6925\n",
            "Epoch 47/200\n",
            "151/151 [==============================] - 1s 4ms/step - loss: 0.9248 - accuracy: 0.6940\n",
            "Epoch 48/200\n",
            "151/151 [==============================] - 1s 4ms/step - loss: 0.9171 - accuracy: 0.6963\n",
            "Epoch 49/200\n",
            "151/151 [==============================] - 1s 4ms/step - loss: 0.9029 - accuracy: 0.7010\n",
            "Epoch 50/200\n",
            "151/151 [==============================] - 1s 4ms/step - loss: 0.8835 - accuracy: 0.7098\n",
            "Epoch 51/200\n",
            "151/151 [==============================] - 1s 4ms/step - loss: 0.8647 - accuracy: 0.7176\n",
            "Epoch 52/200\n",
            "151/151 [==============================] - 1s 5ms/step - loss: 0.8589 - accuracy: 0.7151\n",
            "Epoch 53/200\n",
            "151/151 [==============================] - 1s 4ms/step - loss: 0.8678 - accuracy: 0.7095\n",
            "Epoch 54/200\n",
            "151/151 [==============================] - 1s 4ms/step - loss: 0.8539 - accuracy: 0.7195\n",
            "Epoch 55/200\n",
            "151/151 [==============================] - 1s 4ms/step - loss: 0.8726 - accuracy: 0.7083\n",
            "Epoch 56/200\n",
            "151/151 [==============================] - 1s 4ms/step - loss: 0.8365 - accuracy: 0.7193\n",
            "Epoch 57/200\n",
            "151/151 [==============================] - 1s 4ms/step - loss: 0.8144 - accuracy: 0.7317\n",
            "Epoch 58/200\n",
            "151/151 [==============================] - 1s 6ms/step - loss: 0.8066 - accuracy: 0.7367\n",
            "Epoch 59/200\n",
            "151/151 [==============================] - 1s 7ms/step - loss: 0.8051 - accuracy: 0.7419\n",
            "Epoch 60/200\n",
            "151/151 [==============================] - 1s 7ms/step - loss: 0.7522 - accuracy: 0.7583\n",
            "Epoch 61/200\n",
            "151/151 [==============================] - 1s 7ms/step - loss: 0.7762 - accuracy: 0.7490\n",
            "Epoch 62/200\n",
            "151/151 [==============================] - 1s 6ms/step - loss: 0.8084 - accuracy: 0.7307\n",
            "Epoch 63/200\n",
            "151/151 [==============================] - 1s 4ms/step - loss: 0.7728 - accuracy: 0.7465\n",
            "Epoch 64/200\n",
            "151/151 [==============================] - 1s 5ms/step - loss: 0.7513 - accuracy: 0.7529\n",
            "Epoch 65/200\n",
            "151/151 [==============================] - 1s 4ms/step - loss: 0.7490 - accuracy: 0.7533\n",
            "Epoch 66/200\n",
            "151/151 [==============================] - 1s 4ms/step - loss: 0.7401 - accuracy: 0.7541\n",
            "Epoch 67/200\n",
            "151/151 [==============================] - 1s 4ms/step - loss: 0.7194 - accuracy: 0.7629\n",
            "Epoch 68/200\n",
            "151/151 [==============================] - 1s 4ms/step - loss: 0.7350 - accuracy: 0.7560\n",
            "Epoch 69/200\n",
            "151/151 [==============================] - 1s 4ms/step - loss: 0.7025 - accuracy: 0.7716\n",
            "Epoch 70/200\n",
            "151/151 [==============================] - 1s 4ms/step - loss: 0.6965 - accuracy: 0.7699\n",
            "Epoch 71/200\n",
            "151/151 [==============================] - 1s 4ms/step - loss: 0.6825 - accuracy: 0.7788\n",
            "Epoch 72/200\n",
            "151/151 [==============================] - 1s 4ms/step - loss: 0.6801 - accuracy: 0.7757\n",
            "Epoch 73/200\n",
            "151/151 [==============================] - 1s 4ms/step - loss: 0.6891 - accuracy: 0.7701\n",
            "Epoch 74/200\n",
            "151/151 [==============================] - 1s 5ms/step - loss: 0.6983 - accuracy: 0.7651\n",
            "Epoch 75/200\n",
            "151/151 [==============================] - 1s 5ms/step - loss: 0.6607 - accuracy: 0.7732\n",
            "Epoch 76/200\n",
            "151/151 [==============================] - 1s 5ms/step - loss: 0.6819 - accuracy: 0.7749\n",
            "Epoch 77/200\n",
            "151/151 [==============================] - 1s 4ms/step - loss: 0.6949 - accuracy: 0.7639\n",
            "Epoch 78/200\n",
            "151/151 [==============================] - 1s 6ms/step - loss: 0.6533 - accuracy: 0.7832\n",
            "Epoch 79/200\n",
            "151/151 [==============================] - 1s 6ms/step - loss: 0.6549 - accuracy: 0.7863\n",
            "Epoch 80/200\n",
            "151/151 [==============================] - 1s 7ms/step - loss: 0.6520 - accuracy: 0.7828\n",
            "Epoch 81/200\n",
            "151/151 [==============================] - 1s 6ms/step - loss: 0.6110 - accuracy: 0.7990\n",
            "Epoch 82/200\n",
            "151/151 [==============================] - 1s 6ms/step - loss: 0.6615 - accuracy: 0.7799\n",
            "Epoch 83/200\n",
            "151/151 [==============================] - 1s 4ms/step - loss: 0.6170 - accuracy: 0.7952\n",
            "Epoch 84/200\n",
            "151/151 [==============================] - 1s 5ms/step - loss: 0.6311 - accuracy: 0.7900\n",
            "Epoch 85/200\n",
            "151/151 [==============================] - 1s 4ms/step - loss: 0.6202 - accuracy: 0.7954\n",
            "Epoch 86/200\n",
            "151/151 [==============================] - 1s 4ms/step - loss: 0.5952 - accuracy: 0.8056\n",
            "Epoch 87/200\n",
            "151/151 [==============================] - 1s 4ms/step - loss: 0.6227 - accuracy: 0.7936\n",
            "Epoch 88/200\n",
            "151/151 [==============================] - 1s 4ms/step - loss: 0.6258 - accuracy: 0.7936\n",
            "Epoch 89/200\n",
            "151/151 [==============================] - 1s 4ms/step - loss: 0.5974 - accuracy: 0.8035\n",
            "Epoch 90/200\n",
            "151/151 [==============================] - 1s 4ms/step - loss: 0.5597 - accuracy: 0.8176\n",
            "Epoch 91/200\n",
            "151/151 [==============================] - 1s 4ms/step - loss: 0.5816 - accuracy: 0.8068\n",
            "Epoch 92/200\n",
            "151/151 [==============================] - 1s 5ms/step - loss: 0.5884 - accuracy: 0.8015\n",
            "Epoch 93/200\n",
            "151/151 [==============================] - 1s 4ms/step - loss: 0.5480 - accuracy: 0.8168\n",
            "Epoch 94/200\n",
            "151/151 [==============================] - 1s 4ms/step - loss: 0.6587 - accuracy: 0.7811\n",
            "Epoch 95/200\n",
            "151/151 [==============================] - 1s 4ms/step - loss: 0.5645 - accuracy: 0.8102\n",
            "Epoch 96/200\n",
            "151/151 [==============================] - 1s 4ms/step - loss: 0.5650 - accuracy: 0.8124\n",
            "Epoch 97/200\n",
            "151/151 [==============================] - 1s 5ms/step - loss: 0.5659 - accuracy: 0.8106\n",
            "Epoch 98/200\n",
            "151/151 [==============================] - 1s 5ms/step - loss: 0.5550 - accuracy: 0.8149\n",
            "Epoch 99/200\n",
            "151/151 [==============================] - 1s 7ms/step - loss: 0.5598 - accuracy: 0.8091\n",
            "Epoch 100/200\n",
            "151/151 [==============================] - 1s 6ms/step - loss: 0.5382 - accuracy: 0.8234\n",
            "Epoch 101/200\n",
            "151/151 [==============================] - 1s 6ms/step - loss: 0.5253 - accuracy: 0.8284\n",
            "Epoch 102/200\n",
            "151/151 [==============================] - 1s 6ms/step - loss: 0.5282 - accuracy: 0.8276\n",
            "Epoch 103/200\n",
            "151/151 [==============================] - 1s 5ms/step - loss: 0.5123 - accuracy: 0.8309\n",
            "Epoch 104/200\n",
            "151/151 [==============================] - 1s 9ms/step - loss: 0.5225 - accuracy: 0.8268\n",
            "Epoch 105/200\n",
            "151/151 [==============================] - 1s 6ms/step - loss: 0.5066 - accuracy: 0.8324\n",
            "Epoch 106/200\n",
            "151/151 [==============================] - 1s 5ms/step - loss: 0.5181 - accuracy: 0.8280\n",
            "Epoch 107/200\n",
            "151/151 [==============================] - 1s 4ms/step - loss: 0.5055 - accuracy: 0.8317\n",
            "Epoch 108/200\n",
            "151/151 [==============================] - 1s 4ms/step - loss: 0.5248 - accuracy: 0.8205\n",
            "Epoch 109/200\n",
            "151/151 [==============================] - 1s 4ms/step - loss: 0.4938 - accuracy: 0.8373\n",
            "Epoch 110/200\n",
            "151/151 [==============================] - 1s 4ms/step - loss: 0.4939 - accuracy: 0.8371\n",
            "Epoch 111/200\n",
            "151/151 [==============================] - 1s 4ms/step - loss: 0.4915 - accuracy: 0.8382\n",
            "Epoch 112/200\n",
            "151/151 [==============================] - 1s 5ms/step - loss: 0.4970 - accuracy: 0.8307\n",
            "Epoch 113/200\n",
            "151/151 [==============================] - 1s 5ms/step - loss: 0.4802 - accuracy: 0.8436\n",
            "Epoch 114/200\n",
            "151/151 [==============================] - 1s 4ms/step - loss: 0.5252 - accuracy: 0.8247\n",
            "Epoch 115/200\n",
            "151/151 [==============================] - 1s 4ms/step - loss: 0.5001 - accuracy: 0.8322\n",
            "Epoch 116/200\n",
            "151/151 [==============================] - 1s 4ms/step - loss: 0.4822 - accuracy: 0.8357\n",
            "Epoch 117/200\n",
            "151/151 [==============================] - 1s 5ms/step - loss: 0.4359 - accuracy: 0.8591\n",
            "Epoch 118/200\n",
            "151/151 [==============================] - 1s 6ms/step - loss: 0.4642 - accuracy: 0.8485\n",
            "Epoch 119/200\n",
            "151/151 [==============================] - 1s 6ms/step - loss: 0.4553 - accuracy: 0.8479\n",
            "Epoch 120/200\n",
            "151/151 [==============================] - 1s 6ms/step - loss: 0.4408 - accuracy: 0.8525\n",
            "Epoch 121/200\n",
            "151/151 [==============================] - 1s 7ms/step - loss: 0.4499 - accuracy: 0.8461\n",
            "Epoch 122/200\n",
            "151/151 [==============================] - 1s 4ms/step - loss: 0.4293 - accuracy: 0.8612\n",
            "Epoch 123/200\n",
            "151/151 [==============================] - 1s 4ms/step - loss: 0.4351 - accuracy: 0.8566\n",
            "Epoch 124/200\n",
            "151/151 [==============================] - 1s 4ms/step - loss: 0.4598 - accuracy: 0.8400\n",
            "Epoch 125/200\n",
            "151/151 [==============================] - 1s 4ms/step - loss: 0.4838 - accuracy: 0.8361\n",
            "Epoch 126/200\n",
            "151/151 [==============================] - 1s 4ms/step - loss: 0.4438 - accuracy: 0.8492\n",
            "Epoch 127/200\n",
            "151/151 [==============================] - 1s 4ms/step - loss: 0.4088 - accuracy: 0.8656\n",
            "Epoch 128/200\n",
            "151/151 [==============================] - 1s 4ms/step - loss: 0.4457 - accuracy: 0.8504\n",
            "Epoch 129/200\n",
            "151/151 [==============================] - 1s 4ms/step - loss: 0.4430 - accuracy: 0.8529\n",
            "Epoch 130/200\n",
            "151/151 [==============================] - 1s 4ms/step - loss: 0.4034 - accuracy: 0.8670\n",
            "Epoch 131/200\n",
            "151/151 [==============================] - 1s 4ms/step - loss: 0.4377 - accuracy: 0.8469\n",
            "Epoch 132/200\n",
            "151/151 [==============================] - 1s 4ms/step - loss: 0.4122 - accuracy: 0.8581\n",
            "Epoch 133/200\n",
            "151/151 [==============================] - 1s 5ms/step - loss: 0.3825 - accuracy: 0.8724\n",
            "Epoch 134/200\n",
            "151/151 [==============================] - 1s 4ms/step - loss: 0.4202 - accuracy: 0.8556\n",
            "Epoch 135/200\n",
            "151/151 [==============================] - 1s 4ms/step - loss: 0.4420 - accuracy: 0.8508\n",
            "Epoch 136/200\n",
            "151/151 [==============================] - 1s 4ms/step - loss: 0.4220 - accuracy: 0.8577\n",
            "Epoch 137/200\n",
            "151/151 [==============================] - 1s 4ms/step - loss: 0.3677 - accuracy: 0.8799\n",
            "Epoch 138/200\n",
            "151/151 [==============================] - 1s 5ms/step - loss: 0.4000 - accuracy: 0.8660\n",
            "Epoch 139/200\n",
            "151/151 [==============================] - 1s 7ms/step - loss: 0.3812 - accuracy: 0.8734\n",
            "Epoch 140/200\n",
            "151/151 [==============================] - 1s 8ms/step - loss: 0.3584 - accuracy: 0.8797\n",
            "Epoch 141/200\n",
            "151/151 [==============================] - 1s 6ms/step - loss: 0.3642 - accuracy: 0.8778\n",
            "Epoch 142/200\n",
            "151/151 [==============================] - 1s 6ms/step - loss: 0.4037 - accuracy: 0.8595\n",
            "Epoch 143/200\n",
            "151/151 [==============================] - 1s 6ms/step - loss: 0.3470 - accuracy: 0.8842\n",
            "Epoch 144/200\n",
            "151/151 [==============================] - 1s 4ms/step - loss: 0.4086 - accuracy: 0.8558\n",
            "Epoch 145/200\n",
            "151/151 [==============================] - 1s 4ms/step - loss: 0.3717 - accuracy: 0.8724\n",
            "Epoch 146/200\n",
            "151/151 [==============================] - 1s 4ms/step - loss: 0.4125 - accuracy: 0.8616\n",
            "Epoch 147/200\n",
            "151/151 [==============================] - 1s 4ms/step - loss: 0.3681 - accuracy: 0.8737\n",
            "Epoch 148/200\n",
            "151/151 [==============================] - 1s 4ms/step - loss: 0.3366 - accuracy: 0.8878\n",
            "Epoch 149/200\n",
            "151/151 [==============================] - 1s 4ms/step - loss: 0.3664 - accuracy: 0.8712\n",
            "Epoch 150/200\n",
            "151/151 [==============================] - 1s 4ms/step - loss: 0.3749 - accuracy: 0.8699\n",
            "Epoch 151/200\n",
            "151/151 [==============================] - 1s 5ms/step - loss: 0.3575 - accuracy: 0.8786\n",
            "Epoch 152/200\n",
            "151/151 [==============================] - 1s 5ms/step - loss: 0.3475 - accuracy: 0.8869\n",
            "Epoch 153/200\n",
            "151/151 [==============================] - 1s 5ms/step - loss: 0.3315 - accuracy: 0.8892\n",
            "Epoch 154/200\n",
            "151/151 [==============================] - 1s 4ms/step - loss: 0.3607 - accuracy: 0.8801\n",
            "Epoch 155/200\n",
            "151/151 [==============================] - 1s 4ms/step - loss: 0.3272 - accuracy: 0.8894\n",
            "Epoch 156/200\n",
            "151/151 [==============================] - 1s 4ms/step - loss: 0.3873 - accuracy: 0.8680\n",
            "Epoch 157/200\n",
            "151/151 [==============================] - 1s 5ms/step - loss: 0.3519 - accuracy: 0.8826\n",
            "Epoch 158/200\n",
            "151/151 [==============================] - 1s 5ms/step - loss: 0.3100 - accuracy: 0.9012\n",
            "Epoch 159/200\n",
            "151/151 [==============================] - 1s 8ms/step - loss: 0.3335 - accuracy: 0.8846\n",
            "Epoch 160/200\n",
            "151/151 [==============================] - 1s 7ms/step - loss: 0.3378 - accuracy: 0.8851\n",
            "Epoch 161/200\n",
            "151/151 [==============================] - 1s 6ms/step - loss: 0.3739 - accuracy: 0.8707\n",
            "Epoch 162/200\n",
            "151/151 [==============================] - 1s 6ms/step - loss: 0.3202 - accuracy: 0.8936\n",
            "Epoch 163/200\n",
            "151/151 [==============================] - 1s 6ms/step - loss: 0.2969 - accuracy: 0.9023\n",
            "Epoch 164/200\n",
            "151/151 [==============================] - 1s 4ms/step - loss: 0.3721 - accuracy: 0.8678\n",
            "Epoch 165/200\n",
            "151/151 [==============================] - 1s 5ms/step - loss: 0.3086 - accuracy: 0.8948\n",
            "Epoch 166/200\n",
            "151/151 [==============================] - 1s 4ms/step - loss: 0.3281 - accuracy: 0.8878\n",
            "Epoch 167/200\n",
            "151/151 [==============================] - 1s 4ms/step - loss: 0.3030 - accuracy: 0.8971\n",
            "Epoch 168/200\n",
            "151/151 [==============================] - 1s 4ms/step - loss: 0.3032 - accuracy: 0.8969\n",
            "Epoch 169/200\n",
            "151/151 [==============================] - 1s 4ms/step - loss: 0.3041 - accuracy: 0.8988\n",
            "Epoch 170/200\n",
            "151/151 [==============================] - 1s 4ms/step - loss: 0.3366 - accuracy: 0.8832\n",
            "Epoch 171/200\n",
            "151/151 [==============================] - 1s 4ms/step - loss: 0.3010 - accuracy: 0.9010\n",
            "Epoch 172/200\n",
            "151/151 [==============================] - 1s 4ms/step - loss: 0.2779 - accuracy: 0.9081\n",
            "Epoch 173/200\n",
            "151/151 [==============================] - 1s 4ms/step - loss: 0.3707 - accuracy: 0.8761\n",
            "Epoch 174/200\n",
            "151/151 [==============================] - 1s 4ms/step - loss: 0.3087 - accuracy: 0.8967\n",
            "Epoch 175/200\n",
            "151/151 [==============================] - 1s 5ms/step - loss: 0.2653 - accuracy: 0.9122\n",
            "Epoch 176/200\n",
            "151/151 [==============================] - 1s 4ms/step - loss: 0.2635 - accuracy: 0.9116\n",
            "Epoch 177/200\n",
            "151/151 [==============================] - 1s 4ms/step - loss: 0.2652 - accuracy: 0.9131\n",
            "Epoch 178/200\n",
            "151/151 [==============================] - 1s 4ms/step - loss: 0.3080 - accuracy: 0.8981\n",
            "Epoch 179/200\n",
            "151/151 [==============================] - 1s 5ms/step - loss: 0.2811 - accuracy: 0.9052\n",
            "Epoch 180/200\n",
            "151/151 [==============================] - 1s 6ms/step - loss: 0.3175 - accuracy: 0.8925\n",
            "Epoch 181/200\n",
            "151/151 [==============================] - 1s 6ms/step - loss: 0.3287 - accuracy: 0.8890\n",
            "Epoch 182/200\n",
            "151/151 [==============================] - 1s 8ms/step - loss: 0.3069 - accuracy: 0.9006\n",
            "Epoch 183/200\n",
            "151/151 [==============================] - 1s 6ms/step - loss: 0.3552 - accuracy: 0.8801\n",
            "Epoch 184/200\n",
            "151/151 [==============================] - 1s 5ms/step - loss: 0.2876 - accuracy: 0.9017\n",
            "Epoch 185/200\n",
            "151/151 [==============================] - 1s 4ms/step - loss: 0.2704 - accuracy: 0.9085\n",
            "Epoch 186/200\n",
            "151/151 [==============================] - 1s 4ms/step - loss: 0.2633 - accuracy: 0.9143\n",
            "Epoch 187/200\n",
            "151/151 [==============================] - 1s 4ms/step - loss: 0.2574 - accuracy: 0.9131\n",
            "Epoch 188/200\n",
            "151/151 [==============================] - 1s 4ms/step - loss: 0.3700 - accuracy: 0.8703\n",
            "Epoch 189/200\n",
            "151/151 [==============================] - 1s 4ms/step - loss: 0.2695 - accuracy: 0.9093\n",
            "Epoch 190/200\n",
            "151/151 [==============================] - 1s 4ms/step - loss: 0.3231 - accuracy: 0.8905\n",
            "Epoch 191/200\n",
            "151/151 [==============================] - 1s 4ms/step - loss: 0.2203 - accuracy: 0.9307\n",
            "Epoch 192/200\n",
            "151/151 [==============================] - 1s 4ms/step - loss: 0.2332 - accuracy: 0.9257\n",
            "Epoch 193/200\n",
            "151/151 [==============================] - 1s 4ms/step - loss: 0.2381 - accuracy: 0.9220\n",
            "Epoch 194/200\n",
            "151/151 [==============================] - 1s 5ms/step - loss: 0.2881 - accuracy: 0.9008\n",
            "Epoch 195/200\n",
            "151/151 [==============================] - 1s 5ms/step - loss: 0.2735 - accuracy: 0.9054\n",
            "Epoch 196/200\n",
            "151/151 [==============================] - 1s 5ms/step - loss: 0.2295 - accuracy: 0.9259\n",
            "Epoch 197/200\n",
            "151/151 [==============================] - 1s 5ms/step - loss: 0.2205 - accuracy: 0.9276\n",
            "Epoch 198/200\n",
            "151/151 [==============================] - 1s 5ms/step - loss: 0.2141 - accuracy: 0.9334\n",
            "Epoch 199/200\n",
            "151/151 [==============================] - 1s 6ms/step - loss: 0.3239 - accuracy: 0.8892\n",
            "Epoch 200/200\n",
            "151/151 [==============================] - 1s 6ms/step - loss: 0.2243 - accuracy: 0.9259\n",
            "65/65 [==============================] - 0s 2ms/step - loss: 2.6945 - accuracy: 0.5830\n",
            "Test Loss: 2.694474697113037\n",
            "Test Accuracy: 0.5829704999923706\n"
          ]
        }
      ],
      "source": [
        "model.fit(x_train, y_train, epochs=200, batch_size=32)\n",
        "\n",
        "loss, accuracy = model.evaluate(x_test, y_test)\n",
        "print(\"Test Loss:\", loss)\n",
        "print(\"Test Accuracy:\", accuracy)"
      ]
    },
    {
      "cell_type": "code",
      "execution_count": 18,
      "metadata": {
        "id": "62LRO22O0n0m",
        "colab": {
          "base_uri": "https://localhost:8080/"
        },
        "outputId": "1ce7611a-f638-4420-df54-066f22336dec"
      },
      "outputs": [
        {
          "output_type": "stream",
          "name": "stdout",
          "text": [
            "1/1 [==============================] - 0s 82ms/step\n",
            "Predicted Class: 7\n"
          ]
        }
      ],
      "source": [
        "random_image_path = '/content/7.png'\n",
        "random_image = cv2.imread(random_image_path, cv2.IMREAD_GRAYSCALE)\n",
        "random_image = cv2.resize(random_image, (32, 32))\n",
        "random_image = random_image / 255.0\n",
        "random_image = np.expand_dims(random_image, axis=0)\n",
        "\n",
        "predictions = model.predict(random_image)\n",
        "\n",
        "predicted_class = np.argmax(predictions)\n",
        "\n",
        "print(\"Predicted Class:\", predicted_class)"
      ]
    },
    {
      "cell_type": "code",
      "source": [],
      "metadata": {
        "id": "FdZaIf107_dm"
      },
      "execution_count": null,
      "outputs": []
    }
  ],
  "metadata": {
    "colab": {
      "provenance": [],
      "authorship_tag": "ABX9TyOY2iSTDz1GF8n1Ndc7wZK5",
      "include_colab_link": true
    },
    "kernelspec": {
      "display_name": "Python 3",
      "name": "python3"
    },
    "language_info": {
      "name": "python"
    }
  },
  "nbformat": 4,
  "nbformat_minor": 0
}